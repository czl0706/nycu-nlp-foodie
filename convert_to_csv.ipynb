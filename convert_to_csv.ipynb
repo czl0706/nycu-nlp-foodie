{
 "cells": [
  {
   "cell_type": "code",
   "execution_count": 5,
   "metadata": {},
   "outputs": [],
   "source": [
    "import json\n",
    "import pandas as pd\n",
    "\n",
    "file_path = 'summary_results.json'"
   ]
  },
  {
   "cell_type": "code",
   "execution_count": 4,
   "metadata": {},
   "outputs": [],
   "source": [
    "# load json file \n",
    "with open(file_path) as f:\n",
    "    data = json.load(f)\n",
    "\n",
    "# convert json to dataframe\n",
    "df = pd.DataFrame(data)\n",
    "\n",
    "# remove \"reviews\" column\n",
    "df = df.drop(columns=['reviews'])\n",
    "\n",
    "# convert to csv\n",
    "df.to_csv('dataset/summary_results.csv', index=False)"
   ]
  }
 ],
 "metadata": {
  "kernelspec": {
   "display_name": "base",
   "language": "python",
   "name": "python3"
  },
  "language_info": {
   "codemirror_mode": {
    "name": "ipython",
    "version": 3
   },
   "file_extension": ".py",
   "mimetype": "text/x-python",
   "name": "python",
   "nbconvert_exporter": "python",
   "pygments_lexer": "ipython3",
   "version": "0.0.0"
  }
 },
 "nbformat": 4,
 "nbformat_minor": 2
}
